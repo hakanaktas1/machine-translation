{
 "cells": [
  {
   "cell_type": "code",
   "execution_count": null,
   "metadata": {
    "vscode": {
     "languageId": "plaintext"
    }
   },
   "outputs": [],
   "source": [
    "!pip install datasets\n",
    "!pip install tokenizers\n",
    "!pip install rouge_score\n",
    "!pip install transformers==4.28.0\n",
    "!pip install pytorch-transformers\n",
    "!pip install accelerate -U\n",
    "!pip install accelerate\n",
    "!pip install accelerate==0.17.1\n",
    "!pip install pytorch-accelerated\n",
    "!pip install sacrebleu\n",
    "!pip install evaluate"
   ]
  },
  {
   "cell_type": "code",
   "execution_count": null,
   "metadata": {
    "vscode": {
     "languageId": "plaintext"
    }
   },
   "outputs": [],
   "source": [
    "import moxing as mox\n",
    "\n",
    "obs_folder_path= 'obs://hakan/mt-dataset.csv'\n",
    "local_folder_path='/home/ma-user/work/mt-dataset.csv'\n",
    "\n",
    "mox.file.copy(obs_folder_path, local_folder_path)"
   ]
  },
  {
   "cell_type": "code",
   "execution_count": null,
   "metadata": {
    "vscode": {
     "languageId": "plaintext"
    }
   },
   "outputs": [],
   "source": [
    "import os\n",
    "import torch\n",
    "import evaluate\n",
    "import numpy as np\n",
    "import pandas as pd\n",
    "\n",
    "from datasets import Dataset\n",
    "from datasets import load_dataset, load_metric, Dataset, DatasetDict\n",
    "from transformers import AutoTokenizer\n",
    "from transformers import AutoModelForSeq2SeqLM, Seq2SeqTrainingArguments, Seq2SeqTrainer\n",
    "from transformers import DataCollatorForSeq2Seq"
   ]
  },
  {
   "cell_type": "code",
   "execution_count": null,
   "metadata": {
    "vscode": {
     "languageId": "plaintext"
    }
   },
   "outputs": [],
   "source": [
    "## Load Dataset\n",
    "dataset = load_dataset(\"csv\", data_files=local_folder_path)\n",
    "\n",
    "\n",
    "## Split Dataset\n",
    "## 80% train, 20% validation\n",
    "train_valid = dataset['train'].train_test_split(test_size=0.2, shuffle=False)\n",
    "train_valid_dataset = DatasetDict({\n",
    "    'train': train_valid['train'],\n",
    "    'valid': train_valid['test'],\n",
    "    })\n",
    "\n",
    "\n",
    "train_data = train_valid_dataset['train']\n",
    "val_data = train_valid_dataset['valid']\n",
    "\n",
    "print(train_data)\n",
    "print(type(train_data))"
   ]
  },
  {
   "cell_type": "code",
   "execution_count": null,
   "metadata": {
    "vscode": {
     "languageId": "plaintext"
    }
   },
   "outputs": [],
   "source": [
    "checkpoint = \"google-t5/t5-small\"\n",
    "tokenizer = AutoTokenizer.from_pretrained(checkpoint)\n",
    "model = AutoModelForSeq2SeqLM.from_pretrained(checkpoint)"
   ]
  },
  {
   "cell_type": "code",
   "execution_count": null,
   "metadata": {
    "vscode": {
     "languageId": "plaintext"
    }
   },
   "outputs": [],
   "source": [
    "## Preprocess ##\n",
    "\n",
    "source_lang = \"en\"\n",
    "target_lang = \"de\"\n",
    "prefix = \"translate English to German: \"\n",
    "\n",
    "\n",
    "def preprocess_function(examples):\n",
    "    inputs = [prefix + ex for ex in examples[source_lang]]\n",
    "    targets = [ex for ex in examples[target_lang]]\n",
    "    model_inputs = tokenizer(inputs, text_target=targets, max_length=128, truncation=True)\n",
    "    return model_inputs\n",
    "\n",
    "\n",
    "train_tokenized_datasets = train_data.map(preprocess_function, batched=True)\n",
    "val_tokenized_datasets = val_data.map(preprocess_function, batched=True)\n",
    "\n",
    "\n",
    "\n",
    "data_collator = DataCollatorForSeq2Seq(tokenizer=tokenizer, model=checkpoint)"
   ]
  },
  {
   "cell_type": "code",
   "execution_count": null,
   "metadata": {
    "vscode": {
     "languageId": "plaintext"
    }
   },
   "outputs": [],
   "source": [
    "## Evaluate ##\n",
    "\n",
    "metric = load_metric(\"sacrebleu\")\n",
    "\n",
    "\n",
    "def postprocess_text(preds, labels):\n",
    "    preds = [pred.strip() for pred in preds]\n",
    "    labels = [[label.strip()] for label in labels]\n",
    "\n",
    "    return preds, labels\n",
    "\n",
    "def compute_metrics(eval_preds):\n",
    "    preds, labels = eval_preds\n",
    "    if isinstance(preds, tuple):\n",
    "        preds = preds[0]\n",
    "    decoded_preds = tokenizer.batch_decode(preds, skip_special_tokens=True)\n",
    "\n",
    "    labels = np.where(labels != -100, labels, tokenizer.pad_token_id)\n",
    "    decoded_labels = tokenizer.batch_decode(labels, skip_special_tokens=True)\n",
    "\n",
    "    decoded_preds, decoded_labels = postprocess_text(decoded_preds, decoded_labels)\n",
    "\n",
    "    result = metric.compute(predictions=decoded_preds, references=decoded_labels)\n",
    "    result = {\"bleu\": result[\"score\"]}\n",
    "\n",
    "    prediction_lens = [np.count_nonzero(pred != tokenizer.pad_token_id) for pred in preds]\n",
    "    result[\"gen_len\"] = np.mean(prediction_lens)\n",
    "    result = {k: round(v, 4) for k, v in result.items()}\n",
    "    return result"
   ]
  },
  {
   "cell_type": "code",
   "execution_count": null,
   "metadata": {
    "vscode": {
     "languageId": "plaintext"
    }
   },
   "outputs": [],
   "source": [
    "## Training ##\n",
    "\n",
    "model_dir=\"/home/ma-user/work/model\"\n",
    "\n",
    "\n",
    "training_args = Seq2SeqTrainingArguments(\n",
    "    output_dir=model_dir,\n",
    "    evaluation_strategy=\"epoch\",\n",
    "    save_strategy=\"epoch\",\n",
    "    learning_rate=2e-5,\n",
    "    per_device_train_batch_size=8,\n",
    "    per_device_eval_batch_size=8,\n",
    "    predict_with_generate=True,\n",
    "    fp16=torch.cuda.is_available(),\n",
    "    logging_steps=10,\n",
    "    disable_tqdm=False,\n",
    "    num_train_epochs = 5,\n",
    "    overwrite_output_dir=True,\n",
    "    save_total_limit=2,\n",
    "    metric_for_best_model=\"eval_loss\",\n",
    "    load_best_model_at_end=True,\n",
    ")\n",
    "\n",
    "trainer = Seq2SeqTrainer(\n",
    "    model=model,\n",
    "    args=training_args,\n",
    "    data_collator=data_collator,\n",
    "    train_dataset=train_tokenized_datasets,\n",
    "    eval_dataset=val_tokenized_datasets,\n",
    "    tokenizer=tokenizer,\n",
    "    compute_metrics=compute_metrics,\n",
    ")\n",
    "\n",
    "trainer.train()"
   ]
  },
  {
   "cell_type": "code",
   "execution_count": null,
   "metadata": {
    "vscode": {
     "languageId": "plaintext"
    }
   },
   "outputs": [],
   "source": [
    "text = \"We do not know what is happening.\"\n",
    "tokenizer = AutoTokenizer.from_pretrained(\"/home/ma-user/work/model/checkpoint-1500\")\n",
    "inputs = tokenizer(text, return_tensors=\"pt\").input_ids\n",
    "model = AutoModelForSeq2SeqLM.from_pretrained(\"/home/ma-user/work/model/checkpoint-1500\")\n",
    "outputs = model.generate(inputs, max_new_tokens=60, do_sample=True, top_k=10, top_p=0.95)\n",
    "tokenizer.decode(outputs[0], skip_special_tokens=True)"
   ]
  },
  {
   "cell_type": "code",
   "execution_count": null,
   "metadata": {
    "vscode": {
     "languageId": "plaintext"
    }
   },
   "outputs": [],
   "source": [
    "mox.file.copy_parallel(model_dir, obs_folder_path)"
   ]
  }
 ],
 "metadata": {
  "language_info": {
   "name": "python"
  }
 },
 "nbformat": 4,
 "nbformat_minor": 2
}
